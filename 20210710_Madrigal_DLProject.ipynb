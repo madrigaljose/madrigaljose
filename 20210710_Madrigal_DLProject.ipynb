{
  "nbformat": 4,
  "nbformat_minor": 0,
  "metadata": {
    "kernelspec": {
      "display_name": "Python 3",
      "language": "python",
      "name": "python3"
    },
    "language_info": {
      "codemirror_mode": {
        "name": "ipython",
        "version": 3
      },
      "file_extension": ".py",
      "mimetype": "text/x-python",
      "name": "python",
      "nbconvert_exporter": "python",
      "pygments_lexer": "ipython3",
      "version": "3.8.3"
    },
    "colab": {
      "name": "20210710_Madrigal_DLProject.ipynb",
      "provenance": [],
      "collapsed_sections": [],
      "include_colab_link": true
    }
  },
  "cells": [
    {
      "cell_type": "markdown",
      "metadata": {
        "id": "view-in-github",
        "colab_type": "text"
      },
      "source": [
        "<a href=\"https://colab.research.google.com/github/madrigaljose/madrigaljose/blob/main/20210710_Madrigal_DLProject.ipynb\" target=\"_parent\"><img src=\"https://colab.research.google.com/assets/colab-badge.svg\" alt=\"Open In Colab\"/></a>"
      ]
    },
    {
      "cell_type": "code",
      "metadata": {
        "colab": {
          "base_uri": "https://localhost:8080/"
        },
        "id": "OAFjGAOGaZzH",
        "outputId": "96cd41f3-76e3-4260-a75c-b5dec8e4f236"
      },
      "source": [
        "import numpy as np\n",
        "import pandas as pd\n",
        "\n",
        "import math\n",
        "from keras.models import Sequential\n",
        "from tensorflow.keras.layers import Dense, LSTM, SimpleRNN, Conv1D, GlobalMaxPooling1D, Flatten, MaxPooling1D\n",
        "from keras.layers.wrappers import Bidirectional\n",
        "\n",
        "from sklearn.preprocessing import MinMaxScaler, StandardScaler\n",
        "from sklearn.metrics import mean_squared_error\n",
        "\n",
        "from keras.preprocessing.sequence import TimeseriesGenerator\n",
        "!pip install pandas-datareader\n",
        "!pip install yfinance --upgrade --no-cache-dir"
      ],
      "execution_count": null,
      "outputs": [
        {
          "output_type": "stream",
          "text": [
            "Requirement already satisfied: pandas-datareader in /usr/local/lib/python3.7/dist-packages (0.9.0)\n",
            "Requirement already satisfied: requests>=2.19.0 in /usr/local/lib/python3.7/dist-packages (from pandas-datareader) (2.23.0)\n",
            "Requirement already satisfied: pandas>=0.23 in /usr/local/lib/python3.7/dist-packages (from pandas-datareader) (1.1.5)\n",
            "Requirement already satisfied: lxml in /usr/local/lib/python3.7/dist-packages (from pandas-datareader) (4.2.6)\n",
            "Requirement already satisfied: chardet<4,>=3.0.2 in /usr/local/lib/python3.7/dist-packages (from requests>=2.19.0->pandas-datareader) (3.0.4)\n",
            "Requirement already satisfied: urllib3!=1.25.0,!=1.25.1,<1.26,>=1.21.1 in /usr/local/lib/python3.7/dist-packages (from requests>=2.19.0->pandas-datareader) (1.24.3)\n",
            "Requirement already satisfied: idna<3,>=2.5 in /usr/local/lib/python3.7/dist-packages (from requests>=2.19.0->pandas-datareader) (2.10)\n",
            "Requirement already satisfied: certifi>=2017.4.17 in /usr/local/lib/python3.7/dist-packages (from requests>=2.19.0->pandas-datareader) (2021.5.30)\n",
            "Requirement already satisfied: pytz>=2017.2 in /usr/local/lib/python3.7/dist-packages (from pandas>=0.23->pandas-datareader) (2018.9)\n",
            "Requirement already satisfied: numpy>=1.15.4 in /usr/local/lib/python3.7/dist-packages (from pandas>=0.23->pandas-datareader) (1.19.5)\n",
            "Requirement already satisfied: python-dateutil>=2.7.3 in /usr/local/lib/python3.7/dist-packages (from pandas>=0.23->pandas-datareader) (2.8.1)\n",
            "Requirement already satisfied: six>=1.5 in /usr/local/lib/python3.7/dist-packages (from python-dateutil>=2.7.3->pandas>=0.23->pandas-datareader) (1.15.0)\n",
            "Collecting yfinance\n",
            "  Downloading https://files.pythonhosted.org/packages/58/2d/0c91d633409cd1ac6e1f97ce30d67948748eb60999bed51c8daee83e2866/yfinance-0.1.62.tar.gz\n",
            "Requirement already satisfied, skipping upgrade: pandas>=0.24 in /usr/local/lib/python3.7/dist-packages (from yfinance) (1.1.5)\n",
            "Requirement already satisfied, skipping upgrade: numpy>=1.15 in /usr/local/lib/python3.7/dist-packages (from yfinance) (1.19.5)\n",
            "Requirement already satisfied, skipping upgrade: requests>=2.20 in /usr/local/lib/python3.7/dist-packages (from yfinance) (2.23.0)\n",
            "Requirement already satisfied, skipping upgrade: multitasking>=0.0.7 in /usr/local/lib/python3.7/dist-packages (from yfinance) (0.0.9)\n",
            "Collecting lxml>=4.5.1\n",
            "\u001b[?25l  Downloading https://files.pythonhosted.org/packages/30/c0/d0526314971fc661b083ab135747dc68446a3022686da8c16d25fcf6ef07/lxml-4.6.3-cp37-cp37m-manylinux2014_x86_64.whl (6.3MB)\n",
            "\u001b[K     |████████████████████████████████| 6.3MB 5.4MB/s \n",
            "\u001b[?25hRequirement already satisfied, skipping upgrade: pytz>=2017.2 in /usr/local/lib/python3.7/dist-packages (from pandas>=0.24->yfinance) (2018.9)\n",
            "Requirement already satisfied, skipping upgrade: python-dateutil>=2.7.3 in /usr/local/lib/python3.7/dist-packages (from pandas>=0.24->yfinance) (2.8.1)\n",
            "Requirement already satisfied, skipping upgrade: certifi>=2017.4.17 in /usr/local/lib/python3.7/dist-packages (from requests>=2.20->yfinance) (2021.5.30)\n",
            "Requirement already satisfied, skipping upgrade: urllib3!=1.25.0,!=1.25.1,<1.26,>=1.21.1 in /usr/local/lib/python3.7/dist-packages (from requests>=2.20->yfinance) (1.24.3)\n",
            "Requirement already satisfied, skipping upgrade: chardet<4,>=3.0.2 in /usr/local/lib/python3.7/dist-packages (from requests>=2.20->yfinance) (3.0.4)\n",
            "Requirement already satisfied, skipping upgrade: idna<3,>=2.5 in /usr/local/lib/python3.7/dist-packages (from requests>=2.20->yfinance) (2.10)\n",
            "Requirement already satisfied, skipping upgrade: six>=1.5 in /usr/local/lib/python3.7/dist-packages (from python-dateutil>=2.7.3->pandas>=0.24->yfinance) (1.15.0)\n",
            "Building wheels for collected packages: yfinance\n",
            "  Building wheel for yfinance (setup.py) ... \u001b[?25l\u001b[?25hdone\n",
            "  Created wheel for yfinance: filename=yfinance-0.1.62-py2.py3-none-any.whl size=23867 sha256=07e4b6bd2ed0a18d7f568cfb19362572a2ae882cd3e4daac229ca4387a472dea\n",
            "  Stored in directory: /tmp/pip-ephem-wheel-cache-bts0nsef/wheels/38/5c/4a/7266ab5120deea4efa7a6dd8f6f41e913b77500ec3397c9f01\n",
            "Successfully built yfinance\n",
            "Installing collected packages: lxml, yfinance\n",
            "  Found existing installation: lxml 4.2.6\n",
            "    Uninstalling lxml-4.2.6:\n",
            "      Successfully uninstalled lxml-4.2.6\n",
            "Successfully installed lxml-4.6.3 yfinance-0.1.62\n"
          ],
          "name": "stdout"
        }
      ]
    },
    {
      "cell_type": "code",
      "metadata": {
        "colab": {
          "base_uri": "https://localhost:8080/",
          "height": 250
        },
        "id": "8iy9UT71apoi",
        "outputId": "deab5dd8-71f6-4204-c0b1-a8a560ce95d1"
      },
      "source": [
        "import pandas_datareader.data as pdr\n",
        "import yfinance as yf\n",
        "\n",
        "yf.pdr_override()\n",
        "df = pdr.get_data_yahoo('DE')#, start, end)\n",
        "df = df[['Adj Close']]  \n",
        "df.head()"
      ],
      "execution_count": null,
      "outputs": [
        {
          "output_type": "stream",
          "text": [
            "\r[*********************100%***********************]  1 of 1 completed\n"
          ],
          "name": "stdout"
        },
        {
          "output_type": "execute_result",
          "data": {
            "text/html": [
              "<div>\n",
              "<style scoped>\n",
              "    .dataframe tbody tr th:only-of-type {\n",
              "        vertical-align: middle;\n",
              "    }\n",
              "\n",
              "    .dataframe tbody tr th {\n",
              "        vertical-align: top;\n",
              "    }\n",
              "\n",
              "    .dataframe thead th {\n",
              "        text-align: right;\n",
              "    }\n",
              "</style>\n",
              "<table border=\"1\" class=\"dataframe\">\n",
              "  <thead>\n",
              "    <tr style=\"text-align: right;\">\n",
              "      <th></th>\n",
              "      <th>Adj Close</th>\n",
              "    </tr>\n",
              "    <tr>\n",
              "      <th>Date</th>\n",
              "      <th></th>\n",
              "    </tr>\n",
              "  </thead>\n",
              "  <tbody>\n",
              "    <tr>\n",
              "      <th>1972-06-01</th>\n",
              "      <td>0.691186</td>\n",
              "    </tr>\n",
              "    <tr>\n",
              "      <th>1972-06-02</th>\n",
              "      <td>0.704633</td>\n",
              "    </tr>\n",
              "    <tr>\n",
              "      <th>1972-06-05</th>\n",
              "      <td>0.701944</td>\n",
              "    </tr>\n",
              "    <tr>\n",
              "      <th>1972-06-06</th>\n",
              "      <td>0.695220</td>\n",
              "    </tr>\n",
              "    <tr>\n",
              "      <th>1972-06-07</th>\n",
              "      <td>0.687151</td>\n",
              "    </tr>\n",
              "  </tbody>\n",
              "</table>\n",
              "</div>"
            ],
            "text/plain": [
              "            Adj Close\n",
              "Date                 \n",
              "1972-06-01   0.691186\n",
              "1972-06-02   0.704633\n",
              "1972-06-05   0.701944\n",
              "1972-06-06   0.695220\n",
              "1972-06-07   0.687151"
            ]
          },
          "metadata": {
            "tags": []
          },
          "execution_count": 32
        }
      ]
    },
    {
      "cell_type": "code",
      "metadata": {
        "colab": {
          "base_uri": "https://localhost:8080/",
          "height": 250
        },
        "id": "cZRs3O07fNJ5",
        "outputId": "fe482712-0b17-420e-be07-04ef35de4f2b"
      },
      "source": [
        "yf.pdr_override()\n",
        "Corn = pdr.get_data_yahoo('CORN')#, start, end)\n",
        "Corn[['Corn_Open']] = Corn[['Open']]  \n",
        "Corn=Corn[['Corn_Open']]\n",
        "Corn.head()"
      ],
      "execution_count": null,
      "outputs": [
        {
          "output_type": "stream",
          "text": [
            "\r[*********************100%***********************]  1 of 1 completed\n"
          ],
          "name": "stdout"
        },
        {
          "output_type": "execute_result",
          "data": {
            "text/html": [
              "<div>\n",
              "<style scoped>\n",
              "    .dataframe tbody tr th:only-of-type {\n",
              "        vertical-align: middle;\n",
              "    }\n",
              "\n",
              "    .dataframe tbody tr th {\n",
              "        vertical-align: top;\n",
              "    }\n",
              "\n",
              "    .dataframe thead th {\n",
              "        text-align: right;\n",
              "    }\n",
              "</style>\n",
              "<table border=\"1\" class=\"dataframe\">\n",
              "  <thead>\n",
              "    <tr style=\"text-align: right;\">\n",
              "      <th></th>\n",
              "      <th>Corn_Open</th>\n",
              "    </tr>\n",
              "    <tr>\n",
              "      <th>Date</th>\n",
              "      <th></th>\n",
              "    </tr>\n",
              "  </thead>\n",
              "  <tbody>\n",
              "    <tr>\n",
              "      <th>2010-06-09</th>\n",
              "      <td>25.120001</td>\n",
              "    </tr>\n",
              "    <tr>\n",
              "      <th>2010-06-10</th>\n",
              "      <td>25.459999</td>\n",
              "    </tr>\n",
              "    <tr>\n",
              "      <th>2010-06-11</th>\n",
              "      <td>25.879999</td>\n",
              "    </tr>\n",
              "    <tr>\n",
              "      <th>2010-06-14</th>\n",
              "      <td>25.990000</td>\n",
              "    </tr>\n",
              "    <tr>\n",
              "      <th>2010-06-15</th>\n",
              "      <td>26.240000</td>\n",
              "    </tr>\n",
              "  </tbody>\n",
              "</table>\n",
              "</div>"
            ],
            "text/plain": [
              "            Corn_Open\n",
              "Date                 \n",
              "2010-06-09  25.120001\n",
              "2010-06-10  25.459999\n",
              "2010-06-11  25.879999\n",
              "2010-06-14  25.990000\n",
              "2010-06-15  26.240000"
            ]
          },
          "metadata": {
            "tags": []
          },
          "execution_count": 46
        }
      ]
    },
    {
      "cell_type": "code",
      "metadata": {
        "colab": {
          "base_uri": "https://localhost:8080/",
          "height": 301
        },
        "id": "R83aiRfzfNRA",
        "outputId": "64ba016b-5954-4c93-f147-0547b3aa5773"
      },
      "source": [
        "yf.pdr_override()\n",
        "Wheat = pdr.get_data_yahoo('WEAT')#, start, end)\n",
        "Wheat['Wheat_Open']=Wheat[['Open']]\n",
        "Wheat = Wheat[['Wheat_Open']]  \n",
        "\n",
        "yf.pdr_override()\n",
        "Soy = pdr.get_data_yahoo('SOYB')#, start, end)\n",
        "Soy['Soy_Open'] = Soy[['Open']]  \n",
        "Soy=Soy[['Soy_Open']]\n",
        "\n",
        "yf.pdr_override()\n",
        "Sugar = pdr.get_data_yahoo('CANE')#, start, end)\n",
        "Sugar['Sugar_Open'] = Sugar[['Open']]  \n",
        "Sugar=Sugar[['Sugar_Open']]\n",
        "\n",
        "yf.pdr_override()\n",
        "Deere = pdr.get_data_yahoo('DE')#, start, end)\n",
        "Deere['Deere_Close'] = Deere[['Adj Close']]  \n",
        "Deere=Deere[['Deere_Close']]\n",
        "\n",
        "\n",
        "\n",
        "#CORN.head()\n",
        "#Wheat.head()\n",
        "#Soy.head()\n",
        "#Sugar.head()\n",
        "Deere.head()"
      ],
      "execution_count": null,
      "outputs": [
        {
          "output_type": "stream",
          "text": [
            "[*********************100%***********************]  1 of 1 completed\n",
            "[*********************100%***********************]  1 of 1 completed\n",
            "[*********************100%***********************]  1 of 1 completed\n",
            "[*********************100%***********************]  1 of 1 completed\n"
          ],
          "name": "stdout"
        },
        {
          "output_type": "execute_result",
          "data": {
            "text/html": [
              "<div>\n",
              "<style scoped>\n",
              "    .dataframe tbody tr th:only-of-type {\n",
              "        vertical-align: middle;\n",
              "    }\n",
              "\n",
              "    .dataframe tbody tr th {\n",
              "        vertical-align: top;\n",
              "    }\n",
              "\n",
              "    .dataframe thead th {\n",
              "        text-align: right;\n",
              "    }\n",
              "</style>\n",
              "<table border=\"1\" class=\"dataframe\">\n",
              "  <thead>\n",
              "    <tr style=\"text-align: right;\">\n",
              "      <th></th>\n",
              "      <th>Deere_Close</th>\n",
              "    </tr>\n",
              "    <tr>\n",
              "      <th>Date</th>\n",
              "      <th></th>\n",
              "    </tr>\n",
              "  </thead>\n",
              "  <tbody>\n",
              "    <tr>\n",
              "      <th>1972-06-01</th>\n",
              "      <td>0.691186</td>\n",
              "    </tr>\n",
              "    <tr>\n",
              "      <th>1972-06-02</th>\n",
              "      <td>0.704633</td>\n",
              "    </tr>\n",
              "    <tr>\n",
              "      <th>1972-06-05</th>\n",
              "      <td>0.701944</td>\n",
              "    </tr>\n",
              "    <tr>\n",
              "      <th>1972-06-06</th>\n",
              "      <td>0.695220</td>\n",
              "    </tr>\n",
              "    <tr>\n",
              "      <th>1972-06-07</th>\n",
              "      <td>0.687151</td>\n",
              "    </tr>\n",
              "  </tbody>\n",
              "</table>\n",
              "</div>"
            ],
            "text/plain": [
              "            Deere_Close\n",
              "Date                   \n",
              "1972-06-01     0.691186\n",
              "1972-06-02     0.704633\n",
              "1972-06-05     0.701944\n",
              "1972-06-06     0.695220\n",
              "1972-06-07     0.687151"
            ]
          },
          "metadata": {
            "tags": []
          },
          "execution_count": 44
        }
      ]
    },
    {
      "cell_type": "code",
      "metadata": {
        "id": "srEf6w0HfNTl"
      },
      "source": [
        "Combined_df=Corn.join(Wheat, how='inner').join(Soy, how='inner').join(Sugar, how='inner').join(Deere, how='inner')\n"
      ],
      "execution_count": null,
      "outputs": []
    },
    {
      "cell_type": "code",
      "metadata": {
        "colab": {
          "base_uri": "https://localhost:8080/",
          "height": 447
        },
        "id": "uXx2ulZTfNV-",
        "outputId": "7efd3a96-7e91-4503-88b0-a9c5d2581e0b"
      },
      "source": [
        "Combined_df"
      ],
      "execution_count": null,
      "outputs": [
        {
          "output_type": "execute_result",
          "data": {
            "text/html": [
              "<div>\n",
              "<style scoped>\n",
              "    .dataframe tbody tr th:only-of-type {\n",
              "        vertical-align: middle;\n",
              "    }\n",
              "\n",
              "    .dataframe tbody tr th {\n",
              "        vertical-align: top;\n",
              "    }\n",
              "\n",
              "    .dataframe thead th {\n",
              "        text-align: right;\n",
              "    }\n",
              "</style>\n",
              "<table border=\"1\" class=\"dataframe\">\n",
              "  <thead>\n",
              "    <tr style=\"text-align: right;\">\n",
              "      <th></th>\n",
              "      <th>Corn_Open</th>\n",
              "      <th>Wheat_Open</th>\n",
              "      <th>Soy_Open</th>\n",
              "      <th>Sugar_Open</th>\n",
              "      <th>Deere_Close</th>\n",
              "    </tr>\n",
              "    <tr>\n",
              "      <th>Date</th>\n",
              "      <th></th>\n",
              "      <th></th>\n",
              "      <th></th>\n",
              "      <th></th>\n",
              "      <th></th>\n",
              "    </tr>\n",
              "  </thead>\n",
              "  <tbody>\n",
              "    <tr>\n",
              "      <th>2011-09-19</th>\n",
              "      <td>45.459999</td>\n",
              "      <td>24.570000</td>\n",
              "      <td>24.549999</td>\n",
              "      <td>25.110001</td>\n",
              "      <td>62.006783</td>\n",
              "    </tr>\n",
              "    <tr>\n",
              "      <th>2011-09-20</th>\n",
              "      <td>46.110001</td>\n",
              "      <td>24.680000</td>\n",
              "      <td>24.990000</td>\n",
              "      <td>25.270000</td>\n",
              "      <td>61.034782</td>\n",
              "    </tr>\n",
              "    <tr>\n",
              "      <th>2011-09-21</th>\n",
              "      <td>45.900002</td>\n",
              "      <td>24.410000</td>\n",
              "      <td>24.959999</td>\n",
              "      <td>24.580000</td>\n",
              "      <td>58.496346</td>\n",
              "    </tr>\n",
              "    <tr>\n",
              "      <th>2011-09-22</th>\n",
              "      <td>43.959999</td>\n",
              "      <td>23.709999</td>\n",
              "      <td>24.000000</td>\n",
              "      <td>23.980000</td>\n",
              "      <td>55.098400</td>\n",
              "    </tr>\n",
              "    <tr>\n",
              "      <th>2011-09-23</th>\n",
              "      <td>42.990002</td>\n",
              "      <td>23.320000</td>\n",
              "      <td>24.430000</td>\n",
              "      <td>23.330000</td>\n",
              "      <td>54.198704</td>\n",
              "    </tr>\n",
              "    <tr>\n",
              "      <th>...</th>\n",
              "      <td>...</td>\n",
              "      <td>...</td>\n",
              "      <td>...</td>\n",
              "      <td>...</td>\n",
              "      <td>...</td>\n",
              "    </tr>\n",
              "    <tr>\n",
              "      <th>2021-07-02</th>\n",
              "      <td>21.340000</td>\n",
              "      <td>6.650000</td>\n",
              "      <td>23.879999</td>\n",
              "      <td>8.560000</td>\n",
              "      <td>352.500000</td>\n",
              "    </tr>\n",
              "    <tr>\n",
              "      <th>2021-07-06</th>\n",
              "      <td>20.980000</td>\n",
              "      <td>6.550000</td>\n",
              "      <td>23.650000</td>\n",
              "      <td>8.650000</td>\n",
              "      <td>349.450012</td>\n",
              "    </tr>\n",
              "    <tr>\n",
              "      <th>2021-07-07</th>\n",
              "      <td>19.719999</td>\n",
              "      <td>6.290000</td>\n",
              "      <td>22.600000</td>\n",
              "      <td>8.450000</td>\n",
              "      <td>351.880005</td>\n",
              "    </tr>\n",
              "    <tr>\n",
              "      <th>2021-07-08</th>\n",
              "      <td>19.500000</td>\n",
              "      <td>6.240000</td>\n",
              "      <td>22.440001</td>\n",
              "      <td>8.430000</td>\n",
              "      <td>343.579987</td>\n",
              "    </tr>\n",
              "    <tr>\n",
              "      <th>2021-07-09</th>\n",
              "      <td>19.350000</td>\n",
              "      <td>6.200000</td>\n",
              "      <td>22.530001</td>\n",
              "      <td>8.260000</td>\n",
              "      <td>349.480011</td>\n",
              "    </tr>\n",
              "  </tbody>\n",
              "</table>\n",
              "<p>2468 rows × 5 columns</p>\n",
              "</div>"
            ],
            "text/plain": [
              "            Corn_Open  Wheat_Open   Soy_Open  Sugar_Open  Deere_Close\n",
              "Date                                                                 \n",
              "2011-09-19  45.459999   24.570000  24.549999   25.110001    62.006783\n",
              "2011-09-20  46.110001   24.680000  24.990000   25.270000    61.034782\n",
              "2011-09-21  45.900002   24.410000  24.959999   24.580000    58.496346\n",
              "2011-09-22  43.959999   23.709999  24.000000   23.980000    55.098400\n",
              "2011-09-23  42.990002   23.320000  24.430000   23.330000    54.198704\n",
              "...               ...         ...        ...         ...          ...\n",
              "2021-07-02  21.340000    6.650000  23.879999    8.560000   352.500000\n",
              "2021-07-06  20.980000    6.550000  23.650000    8.650000   349.450012\n",
              "2021-07-07  19.719999    6.290000  22.600000    8.450000   351.880005\n",
              "2021-07-08  19.500000    6.240000  22.440001    8.430000   343.579987\n",
              "2021-07-09  19.350000    6.200000  22.530001    8.260000   349.480011\n",
              "\n",
              "[2468 rows x 5 columns]"
            ]
          },
          "metadata": {
            "tags": []
          },
          "execution_count": 49
        }
      ]
    },
    {
      "cell_type": "code",
      "metadata": {
        "colab": {
          "base_uri": "https://localhost:8080/",
          "height": 430
        },
        "id": "WrkE89QYh9UM",
        "outputId": "c34cd96b-08b9-4d0f-de71-97133e7c3b81"
      },
      "source": [
        "Combined_df.plot()\n",
        "plt.show()"
      ],
      "execution_count": null,
      "outputs": [
        {
          "output_type": "error",
          "ename": "NameError",
          "evalue": "ignored",
          "traceback": [
            "\u001b[0;31m---------------------------------------------------------------------------\u001b[0m",
            "\u001b[0;31mNameError\u001b[0m                                 Traceback (most recent call last)",
            "\u001b[0;32m<ipython-input-51-c19e8b48c7c3>\u001b[0m in \u001b[0;36m<module>\u001b[0;34m()\u001b[0m\n\u001b[1;32m      1\u001b[0m \u001b[0mCombined_df\u001b[0m\u001b[0;34m.\u001b[0m\u001b[0mplot\u001b[0m\u001b[0;34m(\u001b[0m\u001b[0;34m)\u001b[0m\u001b[0;34m\u001b[0m\u001b[0;34m\u001b[0m\u001b[0m\n\u001b[0;32m----> 2\u001b[0;31m \u001b[0mplt\u001b[0m\u001b[0;34m.\u001b[0m\u001b[0mshow\u001b[0m\u001b[0;34m(\u001b[0m\u001b[0;34m)\u001b[0m\u001b[0;34m\u001b[0m\u001b[0;34m\u001b[0m\u001b[0m\n\u001b[0m",
            "\u001b[0;31mNameError\u001b[0m: name 'plt' is not defined"
          ]
        },
        {
          "output_type": "display_data",
          "data": {
            "image/png": "[encoded data removed]",
            "text/plain": [
              "<Figure size 432x288 with 1 Axes>"
            ]
          },
          "metadata": {
            "tags": [],
            "needs_background": "light"
          }
        }
      ]
    },
    {
      "cell_type": "code",
      "metadata": {
        "id": "UUpkDMAHh9Wr"
      },
      "source": [
        ""
      ],
      "execution_count": null,
      "outputs": []
    },
    {
      "cell_type": "code",
      "metadata": {
        "id": "Mb9cGl26h9ZG"
      },
      "source": [
        ""
      ],
      "execution_count": null,
      "outputs": []
    },
    {
      "cell_type": "code",
      "metadata": {
        "id": "Uby0E-Ksh9bg"
      },
      "source": [
        ""
      ],
      "execution_count": null,
      "outputs": []
    },
    {
      "cell_type": "code",
      "metadata": {
        "colab": {
          "base_uri": "https://localhost:8080/"
        },
        "id": "8nh3b-YOapsl",
        "outputId": "aa90f24e-f03b-4799-836e-6f6b0d2bbdba"
      },
      "source": [
        "dataset = df.values.astype('float32')\n",
        "dataset"
      ],
      "execution_count": null,
      "outputs": [
        {
          "output_type": "execute_result",
          "data": {
            "text/plain": [
              "array([[  0.6911858],\n",
              "       [  0.704633 ],\n",
              "       [  0.7019436],\n",
              "       ...,\n",
              "       [351.88     ],\n",
              "       [343.58     ],\n",
              "       [349.48     ]], dtype=float32)"
            ]
          },
          "metadata": {
            "tags": []
          },
          "execution_count": 3
        }
      ]
    },
    {
      "cell_type": "code",
      "metadata": {
        "colab": {
          "base_uri": "https://localhost:8080/"
        },
        "id": "z1JjQV0XapvX",
        "outputId": "b00e3501-a2ea-4676-db8d-f8fbabab924b"
      },
      "source": [
        "dataset.shape"
      ],
      "execution_count": null,
      "outputs": [
        {
          "output_type": "execute_result",
          "data": {
            "text/plain": [
              "(12384, 1)"
            ]
          },
          "metadata": {
            "tags": []
          },
          "execution_count": 4
        }
      ]
    },
    {
      "cell_type": "code",
      "metadata": {
        "colab": {
          "base_uri": "https://localhost:8080/"
        },
        "id": "aORA_NH0apyL",
        "outputId": "de73a7a1-67cb-4f02-c3d2-a379630260c0"
      },
      "source": [
        "split_pct = 0.8\n",
        "\n",
        "split = int(split_pct*len(dataset))\n",
        "\n",
        "train = dataset[:split]\n",
        "valid = dataset[split:]\n",
        "\n",
        "print(len(train))\n",
        "print(len(valid))\n",
        "\n",
        "train.shape, valid.shape"
      ],
      "execution_count": null,
      "outputs": [
        {
          "output_type": "stream",
          "text": [
            "9907\n",
            "2477\n"
          ],
          "name": "stdout"
        },
        {
          "output_type": "execute_result",
          "data": {
            "text/plain": [
              "((9907, 1), (2477, 1))"
            ]
          },
          "metadata": {
            "tags": []
          },
          "execution_count": 5
        }
      ]
    },
    {
      "cell_type": "code",
      "metadata": {
        "id": "B0xqpC2pap0i"
      },
      "source": [
        "lags = 30\n",
        "\n",
        "train_generator = TimeseriesGenerator(train, train, length=lags, batch_size=5)\n",
        "valid_generator = TimeseriesGenerator(valid, valid, length=lags, batch_size=1)"
      ],
      "execution_count": null,
      "outputs": []
    },
    {
      "cell_type": "code",
      "metadata": {
        "colab": {
          "base_uri": "https://localhost:8080/"
        },
        "id": "Lodu0b5ebF8A",
        "outputId": "0da5a956-7cfb-44da-ba78-3d9e5206de4f"
      },
      "source": [
        "train_generator[0][1]"
      ],
      "execution_count": null,
      "outputs": [
        {
          "output_type": "execute_result",
          "data": {
            "text/plain": [
              "array([[0.6656362 ],\n",
              "       [0.66698056],\n",
              "       [0.6683252 ],\n",
              "       [0.67235947],\n",
              "       [0.6683252 ]], dtype=float32)"
            ]
          },
          "metadata": {
            "tags": []
          },
          "execution_count": 7
        }
      ]
    },
    {
      "cell_type": "code",
      "metadata": {
        "colab": {
          "base_uri": "https://localhost:8080/"
        },
        "id": "BU_knrgSbF_i",
        "outputId": "a4a346f8-4eb4-4cad-d0a6-7b611e8730c2"
      },
      "source": [
        "model = Sequential()\n",
        "model.add(LSTM(128, input_shape=(lags, 1)))\n",
        "model.add(Dense(1))\n",
        "model.compile(loss='mean_squared_error', optimizer='adam')\n",
        "model.fit(train_generator, epochs=10, verbose=2, validation_data=valid_generator)"
      ],
      "execution_count": null,
      "outputs": [
        {
          "output_type": "stream",
          "text": [
            "Epoch 1/10\n",
            "1976/1976 - 41s - loss: 48.0008 - val_loss: 11302.2812\n",
            "Epoch 2/10\n",
            "1976/1976 - 38s - loss: 5.0918 - val_loss: 9331.1641\n",
            "Epoch 3/10\n",
            "1976/1976 - 38s - loss: 2.0231 - val_loss: 9318.4287\n",
            "Epoch 4/10\n",
            "1976/1976 - 38s - loss: 1.9319 - val_loss: 8749.5566\n",
            "Epoch 5/10\n",
            "1976/1976 - 38s - loss: 0.9974 - val_loss: 8110.0132\n",
            "Epoch 6/10\n",
            "1976/1976 - 38s - loss: 0.7872 - val_loss: 8370.8652\n",
            "Epoch 7/10\n",
            "1976/1976 - 39s - loss: 0.6053 - val_loss: 8372.2227\n",
            "Epoch 8/10\n",
            "1976/1976 - 38s - loss: 0.6613 - val_loss: 7897.3828\n",
            "Epoch 9/10\n",
            "1976/1976 - 38s - loss: 0.4904 - val_loss: 8137.6460\n",
            "Epoch 10/10\n",
            "1976/1976 - 38s - loss: 0.5205 - val_loss: 8411.2510\n"
          ],
          "name": "stdout"
        },
        {
          "output_type": "execute_result",
          "data": {
            "text/plain": [
              "<keras.callbacks.History at 0x7f953846b250>"
            ]
          },
          "metadata": {
            "tags": []
          },
          "execution_count": 19
        }
      ]
    },
    {
      "cell_type": "code",
      "metadata": {
        "colab": {
          "base_uri": "https://localhost:8080/"
        },
        "id": "TqZFPNEjbGB4",
        "outputId": "ec9d3120-6c01-4635-fd94-8fb5e06dfa89"
      },
      "source": [
        "# skip this cell if you used scaling\n",
        "y_valid = np.array([t[1][0] for t in valid_generator])\n",
        "y_preds=model.predict(valid_generator)\n",
        "\n",
        "y_valid.shape"
      ],
      "execution_count": null,
      "outputs": [
        {
          "output_type": "execute_result",
          "data": {
            "text/plain": [
              "(2447, 1)"
            ]
          },
          "metadata": {
            "tags": []
          },
          "execution_count": 10
        }
      ]
    },
    {
      "cell_type": "code",
      "metadata": {
        "colab": {
          "base_uri": "https://localhost:8080/"
        },
        "id": "ke-esONbbGEO",
        "outputId": "c739009c-cbc6-43be-ef9d-96befa51dae9"
      },
      "source": [
        "math.sqrt(mean_squared_error(y_valid.reshape(-1), y_preds.reshape(-1)))"
      ],
      "execution_count": null,
      "outputs": [
        {
          "output_type": "execute_result",
          "data": {
            "text/plain": [
              "88.50654879548462"
            ]
          },
          "metadata": {
            "tags": []
          },
          "execution_count": 11
        }
      ]
    },
    {
      "cell_type": "code",
      "metadata": {
        "colab": {
          "base_uri": "https://localhost:8080/"
        },
        "id": "465xn8Z6bGGU",
        "outputId": "916475d9-db79-44eb-e753-ce10fd5c8e61"
      },
      "source": [
        "y_preds.reshape(-1)[0:3]"
      ],
      "execution_count": null,
      "outputs": [
        {
          "output_type": "execute_result",
          "data": {
            "text/plain": [
              "array([57.542248, 57.6139  , 56.94195 ], dtype=float32)"
            ]
          },
          "metadata": {
            "tags": []
          },
          "execution_count": 12
        }
      ]
    },
    {
      "cell_type": "code",
      "metadata": {
        "colab": {
          "base_uri": "https://localhost:8080/"
        },
        "id": "MyFfDubAbGIn",
        "outputId": "90707cc8-a8cf-4647-d723-d89b506a074f"
      },
      "source": [
        "y_valid.reshape(-1)[0:3]"
      ],
      "execution_count": null,
      "outputs": [
        {
          "output_type": "execute_result",
          "data": {
            "text/plain": [
              "array([56.669888, 55.84565 , 55.9588  ], dtype=float32)"
            ]
          },
          "metadata": {
            "tags": []
          },
          "execution_count": 13
        }
      ]
    },
    {
      "cell_type": "code",
      "metadata": {
        "id": "1ct-G0XCbeHM"
      },
      "source": [
        "def ts_predict(data, lags, num_periods, model, scaler=None):\n",
        "    if scaler is not None:\n",
        "      preds = scaler.transform(data[-lags:])\n",
        "    \n",
        "      for _ in range(num_periods):\n",
        "          preds = np.append(preds, model.predict(preds[-lags:].reshape((1, lags, 1)))[0][0])\n",
        "          \n",
        "      return scaler.inverse_transform(preds[lags:])\n",
        "    else:\n",
        "      preds = data[-lags:]\n",
        "    \n",
        "      for _ in range(num_periods):\n",
        "          preds = np.append(preds, model.predict(preds[-lags:].reshape((1, lags, 1)))[0][0])\n",
        "          \n",
        "      return preds[lags:]"
      ],
      "execution_count": null,
      "outputs": []
    },
    {
      "cell_type": "code",
      "metadata": {
        "colab": {
          "base_uri": "https://localhost:8080/"
        },
        "id": "Onx6ziWkbeJj",
        "outputId": "80676d9f-f53d-4a14-c5f1-14cac2e625f4"
      },
      "source": [
        "dataset[-lags:]"
      ],
      "execution_count": null,
      "outputs": [
        {
          "output_type": "execute_result",
          "data": {
            "text/plain": [
              "array([[361.2783 ],\n",
              "       [360.17117],\n",
              "       [363.67212],\n",
              "       [355.79245],\n",
              "       [357.98682],\n",
              "       [355.72266],\n",
              "       [354.51575],\n",
              "       [355.66278],\n",
              "       [348.63092],\n",
              "       [340.56174],\n",
              "       [340.6914 ],\n",
              "       [334.6769 ],\n",
              "       [337.23035],\n",
              "       [335.69427],\n",
              "       [327.53534],\n",
              "       [328.1238 ],\n",
              "       [337.0109 ],\n",
              "       [341.22003],\n",
              "       [346.8555 ],\n",
              "       [349.7181 ],\n",
              "       [349.08972],\n",
              "       [348.99002],\n",
              "       [348.93   ],\n",
              "       [352.71   ],\n",
              "       [354.29   ],\n",
              "       [352.5    ],\n",
              "       [349.45   ],\n",
              "       [351.88   ],\n",
              "       [343.58   ],\n",
              "       [349.48   ]], dtype=float32)"
            ]
          },
          "metadata": {
            "tags": []
          },
          "execution_count": 15
        }
      ]
    },
    {
      "cell_type": "code",
      "metadata": {
        "colab": {
          "base_uri": "https://localhost:8080/"
        },
        "id": "EUV3RSnZbeQm",
        "outputId": "83887713-ff0c-41e6-81a5-75d1de59d15b"
      },
      "source": [
        "ts_predict(dataset, lags=lags, num_periods=5, model=model)"
      ],
      "execution_count": null,
      "outputs": [
        {
          "output_type": "execute_result",
          "data": {
            "text/plain": [
              "array([45.476215, 64.89153 , 71.90612 , 73.183754, 72.94365 ],\n",
              "      dtype=float32)"
            ]
          },
          "metadata": {
            "tags": []
          },
          "execution_count": 17
        }
      ]
    },
    {
      "cell_type": "code",
      "metadata": {
        "id": "5iQrngV4bGKz"
      },
      "source": [
        ""
      ],
      "execution_count": null,
      "outputs": []
    }
  ]
}