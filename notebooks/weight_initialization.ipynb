{
  "nbformat": 4,
  "nbformat_minor": 0,
  "metadata": {
    "kernelspec": {
      "display_name": "Python 3",
      "language": "python",
      "name": "python3"
    },
    "language_info": {
      "codemirror_mode": {
        "name": "ipython",
        "version": 3
      },
      "file_extension": ".py",
      "mimetype": "text/x-python",
      "name": "python",
      "nbconvert_exporter": "python",
      "pygments_lexer": "ipython3",
      "version": "3.6.5"
    },
    "colab": {
      "name": "weight_initialization.ipynb",
      "provenance": [],
      "collapsed_sections": [],
      "include_colab_link": true
    }
  },
  "cells": [
    {
      "cell_type": "markdown",
      "metadata": {
        "id": "view-in-github",
        "colab_type": "text"
      },
      "source": [
        "<a href=\"https://colab.research.google.com/github/madrigaljose/madrigaljose/blob/main/notebooks/weight_initialization.ipynb\" target=\"_parent\"><img src=\"https://colab.research.google.com/assets/colab-badge.svg\" alt=\"Open In Colab\"/></a>"
      ]
    },
    {
      "cell_type": "markdown",
      "metadata": {
        "id": "_oVnrmdoVrRO"
      },
      "source": [
        "# Weight Initialization"
      ]
    },
    {
      "cell_type": "markdown",
      "metadata": {
        "id": "e19PQfy7VrRP"
      },
      "source": [
        "In this notebook, we experiment with weight initialization approaches to examine their impact on layer outputs."
      ]
    },
    {
      "cell_type": "markdown",
      "metadata": {
        "id": "iFFY5qxOVrRQ"
      },
      "source": [
        "[![Open In Colab](https://colab.research.google.com/assets/colab-badge.svg)](https://colab.research.google.com/github/the-deep-learners/deep-learning-illustrated/blob/master/notebooks/weight_initialization.ipynb)"
      ]
    },
    {
      "cell_type": "markdown",
      "metadata": {
        "id": "4UD_8HWJVrRQ"
      },
      "source": [
        "#### Load dependencies"
      ]
    },
    {
      "cell_type": "code",
      "metadata": {
        "id": "SV2OWlsAVrRQ"
      },
      "source": [
        "import numpy as np\n",
        "import matplotlib.pyplot as plt\n",
        "\n",
        "from keras import Sequential\n",
        "from keras.layers import Dense, Activation\n",
        "from keras.initializers import Zeros, RandomNormal, glorot_normal, glorot_uniform"
      ],
      "execution_count": 1,
      "outputs": []
    },
    {
      "cell_type": "code",
      "metadata": {
        "id": "HHIfL97iWrDf"
      },
      "source": [
        "from tensorflow.keras.initializers import HeNormal"
      ],
      "execution_count": 2,
      "outputs": []
    },
    {
      "cell_type": "markdown",
      "metadata": {
        "id": "NGXJoCN9VrRR"
      },
      "source": [
        "#### Set number of neurons"
      ]
    },
    {
      "cell_type": "code",
      "metadata": {
        "id": "f5QfrBpSVrRR"
      },
      "source": [
        "n_input = 784\n",
        "n_dense = 256"
      ],
      "execution_count": 3,
      "outputs": []
    },
    {
      "cell_type": "markdown",
      "metadata": {
        "id": "o4Pa3I-iVrRR"
      },
      "source": [
        "#### Select a bias initializer"
      ]
    },
    {
      "cell_type": "code",
      "metadata": {
        "id": "-tX3qLONVrRS"
      },
      "source": [
        "b_init = Zeros()"
      ],
      "execution_count": 4,
      "outputs": []
    },
    {
      "cell_type": "markdown",
      "metadata": {
        "id": "cQUAnCzyVrRS"
      },
      "source": [
        "#### Select a weight initializer"
      ]
    },
    {
      "cell_type": "code",
      "metadata": {
        "id": "z6yqJqoxVrRS"
      },
      "source": [
        "#w_init = RandomNormal(stddev=1.0)\n",
        "#w_init = glorot_normal()\n",
        "w_init = glorot_uniform()\n",
        "#w_init = HeNormal()"
      ],
      "execution_count": 5,
      "outputs": []
    },
    {
      "cell_type": "markdown",
      "metadata": {
        "id": "XNUB1CzjVrRS"
      },
      "source": [
        "#### Design neural network architecture"
      ]
    },
    {
      "cell_type": "code",
      "metadata": {
        "id": "lFHCVKFiVrRS"
      },
      "source": [
        "model = Sequential()\n",
        "model.add(Dense(n_dense, \n",
        "                input_dim=n_input,\n",
        "                kernel_initializer=w_init,\n",
        "                bias_initializer=b_init))\n",
        "                #,activation='sigmoid'))\n",
        "#model.add(Activation('sigmoid'))\n",
        "#model.add(Activation('tanh'))\n",
        "model.add(Activation('relu'))"
      ],
      "execution_count": 6,
      "outputs": []
    },
    {
      "cell_type": "markdown",
      "metadata": {
        "id": "bg3qKE5vVrRT"
      },
      "source": [
        "#### Generate random *x* values"
      ]
    },
    {
      "cell_type": "code",
      "metadata": {
        "id": "-ZOYP_emVrRT"
      },
      "source": [
        "x = np.random.random((1,n_input))"
      ],
      "execution_count": 7,
      "outputs": []
    },
    {
      "cell_type": "markdown",
      "metadata": {
        "id": "_SSRlz3hVrRT"
      },
      "source": [
        "#### Forward propagate through the network"
      ]
    },
    {
      "cell_type": "code",
      "metadata": {
        "id": "UI3cvww3VrRT"
      },
      "source": [
        "a = model.predict(x)"
      ],
      "execution_count": 8,
      "outputs": []
    },
    {
      "cell_type": "code",
      "metadata": {
        "id": "m1bJy0GPVrRT",
        "outputId": "de2ef939-c1b5-40ef-92ff-f30c4761f8df",
        "colab": {
          "base_uri": "https://localhost:8080/"
        }
      },
      "source": [
        "a"
      ],
      "execution_count": 9,
      "outputs": [
        {
          "output_type": "execute_result",
          "data": {
            "text/plain": [
              "array([[0.37122798, 0.43442637, 0.        , 0.        , 0.        ,\n",
              "        0.        , 0.        , 0.30144203, 0.        , 1.4683509 ,\n",
              "        1.143427  , 0.        , 0.23589942, 0.        , 0.93907523,\n",
              "        0.8110079 , 0.        , 0.7809324 , 0.        , 1.1182389 ,\n",
              "        0.        , 0.        , 0.29914737, 0.18186234, 0.4714772 ,\n",
              "        0.        , 0.21725789, 0.7107064 , 0.35132748, 0.        ,\n",
              "        1.2484863 , 0.        , 0.41480088, 0.1011381 , 0.4160684 ,\n",
              "        0.6158102 , 0.27785942, 0.48116016, 0.6268485 , 0.47468776,\n",
              "        1.1381679 , 0.        , 0.4384126 , 0.38192308, 0.9901282 ,\n",
              "        0.6364449 , 0.        , 1.0702696 , 0.        , 0.        ,\n",
              "        0.        , 0.6328183 , 0.15379691, 0.        , 0.2017385 ,\n",
              "        0.        , 0.4250332 , 0.41840512, 0.00200173, 0.49780035,\n",
              "        0.75560373, 0.        , 0.0131994 , 0.9104788 , 0.4955119 ,\n",
              "        0.17308259, 0.        , 0.        , 0.90088737, 0.        ,\n",
              "        0.        , 0.11392887, 0.00965212, 0.        , 0.        ,\n",
              "        0.        , 1.0906321 , 1.3866453 , 1.0293999 , 0.6194367 ,\n",
              "        0.        , 1.2880391 , 0.        , 0.07211889, 0.        ,\n",
              "        0.7526227 , 0.4662236 , 0.        , 0.        , 0.27512538,\n",
              "        0.3180752 , 0.        , 0.30453974, 0.        , 0.        ,\n",
              "        0.        , 0.65621924, 0.        , 1.3647295 , 0.        ,\n",
              "        1.3514626 , 0.        , 0.07222374, 0.0276596 , 0.24422163,\n",
              "        0.61209375, 0.        , 0.        , 0.        , 0.8496188 ,\n",
              "        0.3863848 , 0.        , 0.8796558 , 0.7689747 , 0.        ,\n",
              "        0.        , 0.        , 0.48727322, 0.26788583, 0.        ,\n",
              "        0.18633203, 0.28745136, 0.1129097 , 0.78153765, 0.        ,\n",
              "        0.        , 0.        , 1.362606  , 0.35205474, 0.        ,\n",
              "        0.        , 0.        , 0.37579823, 0.4294437 , 0.00187798,\n",
              "        1.1700983 , 0.        , 0.        , 0.        , 0.        ,\n",
              "        0.        , 0.48855036, 0.7592442 , 0.8816178 , 0.02345885,\n",
              "        0.        , 0.0671238 , 0.50042105, 1.3651129 , 0.5694187 ,\n",
              "        0.3162263 , 0.09515946, 0.        , 0.        , 0.27051163,\n",
              "        0.        , 0.43574435, 0.03761762, 0.9872264 , 0.        ,\n",
              "        1.1146486 , 0.        , 0.7724039 , 0.32151437, 0.5121795 ,\n",
              "        0.21518835, 0.        , 0.6253837 , 0.58760357, 0.25652912,\n",
              "        0.        , 0.0708546 , 0.06445786, 0.72559404, 0.        ,\n",
              "        0.        , 0.28691152, 0.        , 0.        , 0.        ,\n",
              "        0.71054447, 0.        , 0.7770165 , 0.34841204, 0.        ,\n",
              "        0.        , 0.3305162 , 0.39036062, 0.        , 0.        ,\n",
              "        0.        , 1.4591447 , 0.53553915, 0.        , 0.1443855 ,\n",
              "        0.        , 0.        , 0.        , 0.8087054 , 0.1612283 ,\n",
              "        0.7891339 , 0.        , 0.71684355, 0.05814297, 0.1963348 ,\n",
              "        0.        , 0.        , 0.49222413, 0.43660757, 1.3091036 ,\n",
              "        0.4943924 , 0.        , 0.        , 0.6113385 , 0.        ,\n",
              "        0.36861795, 0.        , 0.37655687, 0.        , 0.        ,\n",
              "        0.        , 0.36995584, 0.        , 0.42516214, 0.1940912 ,\n",
              "        0.        , 0.        , 1.3304707 , 0.        , 0.        ,\n",
              "        0.        , 1.3561554 , 0.49929836, 0.14538382, 0.606943  ,\n",
              "        0.        , 0.        , 0.        , 0.22944088, 0.8046814 ,\n",
              "        0.912084  , 0.        , 0.        , 0.        , 0.5673746 ,\n",
              "        0.        , 0.23315582, 0.71215445, 0.        , 0.        ,\n",
              "        0.        , 0.        , 0.46927905, 0.85650396, 0.        ,\n",
              "        0.        ]], dtype=float32)"
            ]
          },
          "metadata": {
            "tags": []
          },
          "execution_count": 9
        }
      ]
    },
    {
      "cell_type": "code",
      "metadata": {
        "id": "cfaqRukQVrRU",
        "outputId": "8f063862-4f22-4d94-c9d8-40dd67a7fc0a",
        "colab": {
          "base_uri": "https://localhost:8080/",
          "height": 265
        }
      },
      "source": [
        "_ = plt.hist(np.transpose(a))"
      ],
      "execution_count": 10,
      "outputs": [
        {
          "output_type": "display_data",
          "data": {
            "image/png": "[encoded data removed]",
            "text/plain": [
              "<Figure size 432x288 with 1 Axes>"
            ]
          },
          "metadata": {
            "tags": [],
            "needs_background": "light"
          }
        }
      ]
    },
    {
      "cell_type": "code",
      "metadata": {
        "id": "qRXh1GFBVrRU",
        "outputId": "8fe48f34-fc21-4aff-b1a9-60a9d3fa7724",
        "colab": {
          "base_uri": "https://localhost:8080/"
        }
      },
      "source": [
        "x"
      ],
      "execution_count": 11,
      "outputs": [
        {
          "output_type": "execute_result",
          "data": {
            "text/plain": [
              "array([[1.30684984e-01, 3.19277638e-01, 5.27532861e-01, 7.61381741e-01,\n",
              "        6.92788387e-01, 7.22534772e-01, 2.03762545e-01, 4.31123504e-01,\n",
              "        9.88844846e-02, 6.95549020e-01, 3.79663518e-02, 6.15482756e-01,\n",
              "        3.47916964e-01, 9.33716195e-01, 9.69920065e-01, 3.08591633e-01,\n",
              "        3.19561369e-01, 8.83661209e-01, 9.02175292e-01, 7.69322400e-01,\n",
              "        2.98786245e-01, 3.72275536e-02, 5.33999763e-01, 3.63968559e-01,\n",
              "        7.62047028e-01, 1.17119511e-01, 7.90570147e-01, 8.34575415e-01,\n",
              "        5.36043283e-01, 7.55404604e-01, 6.62328383e-01, 2.34105291e-01,\n",
              "        2.38319257e-01, 5.91777660e-01, 5.09202216e-01, 4.59741001e-01,\n",
              "        8.35922600e-01, 8.60818438e-01, 5.75453890e-01, 5.52036973e-01,\n",
              "        5.63577703e-01, 5.79676210e-01, 7.92456774e-01, 8.52195213e-01,\n",
              "        9.51105083e-01, 6.20930015e-01, 1.30751793e-01, 2.21309940e-02,\n",
              "        4.64127967e-01, 1.58702874e-01, 8.38509440e-02, 7.82178085e-01,\n",
              "        6.77952246e-01, 3.75676534e-01, 2.95241022e-01, 8.71120334e-01,\n",
              "        7.43297445e-02, 8.48658302e-01, 7.23445289e-01, 7.72413470e-01,\n",
              "        3.67973868e-01, 8.83438993e-01, 6.81382919e-01, 9.19578779e-01,\n",
              "        9.04448151e-01, 9.85798311e-01, 4.39029747e-01, 7.95350527e-02,\n",
              "        4.89929343e-01, 9.78250044e-01, 1.33461300e-01, 4.03803982e-01,\n",
              "        3.99848273e-01, 7.14304197e-01, 4.90578749e-01, 7.43498206e-02,\n",
              "        3.36543138e-01, 9.18517213e-01, 2.93230475e-01, 9.65678808e-01,\n",
              "        2.35667943e-01, 1.62296814e-01, 8.64805152e-01, 4.57161535e-01,\n",
              "        4.72807880e-01, 4.53355527e-01, 1.53372515e-01, 7.41204456e-01,\n",
              "        8.96349241e-01, 6.55167078e-01, 3.96015746e-01, 9.22388712e-01,\n",
              "        7.41035995e-01, 7.91234879e-01, 8.38322686e-01, 3.61651012e-01,\n",
              "        8.00120927e-01, 9.96286115e-01, 3.05401648e-01, 2.11841387e-01,\n",
              "        1.51052343e-01, 7.17112774e-01, 8.49669439e-01, 7.15207719e-01,\n",
              "        7.08720461e-01, 7.08382148e-01, 4.30620586e-01, 7.43388858e-01,\n",
              "        8.24165985e-01, 7.54349153e-01, 4.63474245e-01, 8.28375885e-01,\n",
              "        4.74666924e-01, 6.16150145e-01, 9.91555240e-01, 5.18390898e-01,\n",
              "        1.66995411e-01, 5.25491955e-01, 4.48840685e-01, 9.57912096e-01,\n",
              "        3.12324706e-01, 4.50921535e-01, 1.43949975e-01, 7.19626867e-01,\n",
              "        9.91104609e-01, 5.31060941e-01, 5.09276624e-01, 9.50608074e-02,\n",
              "        8.51402217e-01, 5.30778335e-01, 9.68492752e-01, 5.63864935e-01,\n",
              "        3.67002519e-02, 8.79268186e-01, 4.70580933e-01, 6.91321052e-01,\n",
              "        6.50765872e-01, 5.81743160e-01, 2.04177913e-01, 3.90241079e-01,\n",
              "        7.89944551e-01, 4.14055838e-01, 2.93546814e-01, 8.80271740e-01,\n",
              "        7.70653178e-01, 1.11021385e-01, 3.61991388e-01, 1.19849317e-01,\n",
              "        9.93679115e-01, 5.10917497e-01, 6.64154929e-01, 7.51526348e-01,\n",
              "        8.02527330e-01, 9.38283471e-01, 9.11072990e-01, 8.72523079e-01,\n",
              "        8.80069573e-01, 8.21606873e-01, 1.86151849e-01, 3.15745465e-01,\n",
              "        3.80344267e-01, 4.43229344e-01, 1.94667860e-01, 7.34084526e-01,\n",
              "        3.80425243e-01, 6.58088196e-01, 6.64964181e-01, 9.14691030e-01,\n",
              "        9.96044736e-02, 9.34716132e-01, 8.81902214e-01, 4.58939872e-01,\n",
              "        3.79169072e-01, 2.67020805e-01, 5.84494043e-01, 1.22033326e-01,\n",
              "        2.91390816e-02, 5.50545089e-01, 8.50762892e-01, 8.31201564e-01,\n",
              "        4.96527273e-01, 8.50122760e-01, 8.55058611e-01, 8.04451764e-01,\n",
              "        5.97606717e-01, 2.46529552e-01, 8.55698197e-01, 9.32533462e-01,\n",
              "        2.80480144e-01, 5.37638551e-01, 1.13434087e-01, 2.19515334e-01,\n",
              "        1.56783097e-01, 2.58911582e-01, 3.57306872e-01, 6.94370073e-01,\n",
              "        9.13050785e-02, 5.42254950e-01, 8.66268775e-01, 1.55828650e-02,\n",
              "        9.73903527e-01, 6.37609185e-01, 6.33353672e-01, 7.43697153e-01,\n",
              "        6.98784113e-01, 4.21601001e-01, 6.85165765e-01, 8.27203031e-01,\n",
              "        6.93734006e-01, 1.80161319e-01, 6.24112776e-01, 8.07291929e-01,\n",
              "        9.56491658e-01, 7.58548023e-01, 4.31905702e-01, 2.59424637e-01,\n",
              "        7.15522254e-01, 7.94678226e-01, 3.14215932e-01, 9.94065026e-01,\n",
              "        8.23292126e-01, 5.37172231e-01, 2.08753708e-01, 1.40190519e-01,\n",
              "        5.55932818e-02, 6.69186704e-02, 9.54369489e-01, 7.86948320e-02,\n",
              "        4.61125417e-01, 5.08223179e-01, 2.83775090e-03, 5.89117578e-01,\n",
              "        4.77345221e-01, 5.11304740e-01, 4.65723007e-01, 6.69691013e-01,\n",
              "        2.28531336e-03, 7.49389785e-01, 3.40368292e-01, 3.03567490e-02,\n",
              "        1.29435914e-01, 3.91065023e-01, 9.06356227e-01, 5.30761163e-01,\n",
              "        7.46526136e-01, 3.60930885e-01, 9.55740505e-01, 6.64082366e-02,\n",
              "        7.70166845e-01, 1.44477548e-01, 9.91321417e-01, 9.25164378e-01,\n",
              "        6.21811142e-01, 2.96616474e-01, 3.16437378e-01, 1.10399154e-01,\n",
              "        2.85862361e-01, 6.99175142e-01, 6.50392444e-01, 3.74792538e-01,\n",
              "        4.24748665e-01, 4.38103183e-01, 2.83714683e-01, 6.17454060e-01,\n",
              "        3.21797760e-01, 7.84310700e-01, 4.98678817e-02, 2.91279149e-01,\n",
              "        6.54075804e-01, 4.45589481e-01, 2.24240349e-01, 2.50239141e-02,\n",
              "        1.31474615e-01, 4.94862076e-01, 8.82762626e-01, 8.02042469e-01,\n",
              "        9.62308695e-01, 4.82149430e-01, 2.02590465e-01, 8.56720418e-01,\n",
              "        3.30811410e-01, 4.64756842e-02, 8.76865193e-01, 4.44772385e-01,\n",
              "        1.45344362e-01, 4.24096976e-01, 4.89419059e-01, 6.05355564e-01,\n",
              "        4.85345046e-01, 7.85940615e-01, 6.17780729e-01, 7.03165701e-01,\n",
              "        7.54399381e-01, 2.98663250e-01, 2.89290638e-01, 8.43150286e-01,\n",
              "        5.23184484e-02, 8.17294188e-01, 5.74047536e-01, 9.08071812e-01,\n",
              "        5.36801851e-01, 1.46677263e-01, 4.40995405e-02, 3.13454142e-01,\n",
              "        3.94134793e-01, 3.30869581e-01, 2.36366466e-01, 8.67911760e-01,\n",
              "        2.30678422e-01, 8.21807576e-01, 9.39893241e-03, 4.45543253e-01,\n",
              "        3.48237393e-01, 4.69573423e-01, 6.04466994e-02, 1.98901815e-01,\n",
              "        1.67598566e-03, 4.02256579e-01, 1.26306195e-01, 6.62618646e-01,\n",
              "        8.24466028e-01, 7.92832488e-01, 7.26592488e-02, 6.41397108e-02,\n",
              "        1.81899816e-01, 2.61935723e-01, 2.01550755e-01, 2.53806658e-01,\n",
              "        6.04300326e-01, 3.14309405e-01, 6.24819714e-01, 5.85559856e-01,\n",
              "        3.50087708e-01, 5.09018665e-01, 1.14787634e-01, 1.46439798e-01,\n",
              "        5.80643208e-01, 4.35384626e-01, 2.75913931e-01, 5.53150889e-01,\n",
              "        9.96977289e-02, 9.57153754e-02, 4.50623805e-01, 6.85446191e-01,\n",
              "        9.26057905e-01, 1.89453740e-01, 7.96994730e-01, 9.99844751e-01,\n",
              "        8.59913725e-01, 8.35153131e-01, 8.02406086e-01, 8.71359113e-01,\n",
              "        8.82708647e-01, 2.73805379e-01, 1.45927884e-01, 2.39956250e-01,\n",
              "        7.19714216e-01, 1.73049985e-01, 4.60282209e-01, 2.30629015e-01,\n",
              "        1.46334999e-01, 3.93011956e-01, 9.63413825e-01, 8.94457888e-01,\n",
              "        1.96969884e-01, 5.65029066e-01, 4.32093372e-01, 2.65713781e-01,\n",
              "        7.42549057e-01, 8.33960489e-01, 3.23410417e-01, 3.63187156e-01,\n",
              "        9.83377521e-01, 3.19167956e-01, 7.50898365e-02, 8.25801811e-01,\n",
              "        9.85352999e-01, 5.49118951e-01, 7.67064502e-01, 4.32983652e-01,\n",
              "        5.82253998e-01, 7.41662944e-01, 6.50347268e-01, 4.80109287e-01,\n",
              "        7.50533771e-01, 1.61929872e-01, 4.86405052e-01, 2.13358705e-01,\n",
              "        6.83296168e-01, 2.27743007e-02, 7.28783328e-02, 4.68907013e-01,\n",
              "        7.21894447e-01, 2.70668306e-02, 7.32911983e-02, 1.47878179e-01,\n",
              "        7.58297534e-01, 9.35840539e-01, 1.17898628e-01, 3.77647777e-02,\n",
              "        9.94848511e-01, 8.05046664e-02, 7.65043848e-02, 3.64761116e-01,\n",
              "        2.40306398e-01, 5.59332949e-01, 9.17466010e-01, 9.46676709e-01,\n",
              "        7.31843847e-01, 6.27120675e-01, 5.41395082e-01, 1.03198700e-01,\n",
              "        6.20899066e-01, 1.40687818e-01, 4.03927373e-02, 4.30606416e-01,\n",
              "        4.36450994e-01, 6.84795110e-01, 6.80135954e-01, 7.60236939e-01,\n",
              "        1.63807912e-01, 8.61548226e-02, 7.28340284e-01, 8.12021484e-01,\n",
              "        2.73501742e-01, 6.65424879e-01, 7.44493300e-01, 1.35812406e-04,\n",
              "        1.77933706e-01, 1.00811531e-01, 5.65633565e-01, 2.58684446e-01,\n",
              "        7.58766401e-01, 5.83437479e-01, 8.75615116e-01, 1.53634123e-01,\n",
              "        6.32087786e-01, 7.82654306e-01, 1.96951158e-01, 2.23963295e-01,\n",
              "        1.96542043e-01, 1.52760103e-01, 5.17345373e-01, 1.83817802e-01,\n",
              "        9.49872094e-01, 5.50768663e-01, 4.00052495e-01, 7.12023983e-01,\n",
              "        9.71689377e-01, 5.87935304e-01, 4.09290762e-02, 9.80427194e-01,\n",
              "        3.93786459e-02, 4.03510571e-01, 4.16334853e-01, 9.82280048e-01,\n",
              "        2.92156682e-01, 9.89569643e-01, 2.24486293e-01, 9.13551779e-02,\n",
              "        6.36278141e-01, 7.32453607e-01, 8.02620941e-01, 1.98376342e-01,\n",
              "        4.95480383e-01, 4.31997482e-01, 4.22582533e-01, 9.97544159e-01,\n",
              "        5.18415583e-01, 6.48725455e-01, 7.29899321e-02, 2.40069324e-01,\n",
              "        5.86334948e-01, 4.07545996e-01, 8.70150918e-01, 1.83090271e-01,\n",
              "        2.26752134e-01, 9.91535742e-01, 7.42393699e-01, 7.98139275e-01,\n",
              "        5.49040304e-01, 6.06079020e-01, 9.15817652e-01, 3.47385515e-01,\n",
              "        9.24611907e-01, 6.89059203e-02, 2.15733998e-01, 9.79192990e-02,\n",
              "        4.18083644e-02, 7.49766252e-01, 5.21945107e-01, 3.04717326e-01,\n",
              "        3.73638717e-01, 2.98557540e-01, 3.12648531e-01, 9.49429752e-01,\n",
              "        2.36422549e-01, 7.77681631e-01, 9.49492842e-01, 6.54272511e-01,\n",
              "        7.41525234e-01, 7.02841251e-01, 6.87524036e-01, 3.02340719e-01,\n",
              "        1.94377081e-01, 3.75735839e-01, 5.06745430e-01, 4.11242452e-01,\n",
              "        9.76997487e-01, 2.08516624e-01, 6.02940205e-01, 6.47046866e-02,\n",
              "        1.55846041e-01, 2.08238162e-01, 3.66856339e-01, 4.95323641e-01,\n",
              "        9.56471005e-01, 3.84532928e-01, 2.45981687e-01, 3.39607368e-01,\n",
              "        9.27936690e-01, 4.81445213e-01, 7.26419270e-01, 9.22480739e-02,\n",
              "        8.68418287e-01, 7.29906402e-02, 6.36018500e-01, 8.74156165e-01,\n",
              "        9.03110067e-01, 7.57967831e-01, 3.03042214e-01, 7.95030906e-01,\n",
              "        3.67763149e-01, 6.33864785e-03, 4.79932773e-01, 6.77074711e-01,\n",
              "        5.18574609e-01, 5.41224339e-02, 3.80623468e-01, 9.40891008e-01,\n",
              "        9.64257810e-01, 2.85301596e-01, 5.36054077e-02, 5.79780743e-01,\n",
              "        9.19258370e-01, 9.97841127e-01, 1.29378938e-02, 5.92847805e-01,\n",
              "        2.32895850e-01, 3.44691577e-01, 8.73294204e-01, 1.38949596e-01,\n",
              "        1.27020035e-01, 3.60295265e-02, 6.31479539e-01, 9.89275912e-01,\n",
              "        4.45109041e-01, 8.96239162e-01, 1.38510126e-02, 2.43873232e-01,\n",
              "        7.80245387e-01, 9.67171099e-01, 1.16969559e-01, 9.41441085e-01,\n",
              "        8.85796163e-01, 5.59149081e-01, 9.97817695e-01, 4.94593945e-01,\n",
              "        9.89597398e-01, 6.30376229e-01, 9.05154610e-01, 7.54799402e-01,\n",
              "        9.85984952e-01, 9.49647889e-01, 9.11489751e-01, 2.49051305e-01,\n",
              "        1.56200951e-01, 6.39803635e-02, 1.04275332e-01, 3.57077794e-02,\n",
              "        5.57518440e-01, 2.56376581e-01, 1.15812385e-01, 3.46744587e-01,\n",
              "        8.26578280e-02, 2.25556215e-01, 3.82262628e-01, 9.14707646e-01,\n",
              "        5.35709741e-01, 5.61724173e-01, 5.26067717e-01, 4.14809130e-01,\n",
              "        9.51136321e-01, 3.69597124e-01, 6.25250823e-01, 5.14443343e-01,\n",
              "        1.82117489e-01, 1.38216318e-01, 6.50272511e-01, 3.57218096e-01,\n",
              "        3.82097572e-02, 6.43728396e-01, 6.89551002e-01, 1.63449594e-01,\n",
              "        9.43345622e-01, 3.57271135e-02, 1.90847537e-01, 8.14321906e-01,\n",
              "        5.38986008e-01, 9.40730731e-01, 2.23428023e-01, 1.66599461e-02,\n",
              "        4.36851806e-01, 7.16715384e-01, 6.25548289e-01, 6.53364452e-01,\n",
              "        9.36638863e-01, 6.64751777e-01, 9.23300157e-01, 5.39353846e-02,\n",
              "        8.72060048e-01, 2.74495591e-01, 6.20891304e-01, 5.45821427e-01,\n",
              "        9.15016135e-01, 4.49723527e-02, 3.76241561e-01, 7.00879003e-01,\n",
              "        7.77096081e-01, 8.54275724e-01, 6.95789313e-02, 8.34340832e-01,\n",
              "        7.70925360e-01, 3.51381588e-01, 4.68777815e-01, 5.63691795e-01,\n",
              "        5.96358131e-01, 1.72101182e-01, 2.54792416e-01, 6.17008587e-01,\n",
              "        4.40691762e-01, 4.74786493e-01, 1.88490684e-01, 5.89431026e-01,\n",
              "        8.80739094e-01, 6.90478621e-01, 8.10294292e-01, 4.97267726e-01,\n",
              "        3.80982737e-01, 9.73887876e-01, 5.63745186e-01, 5.07474164e-01,\n",
              "        5.92964425e-01, 6.05203490e-01, 5.67258537e-01, 2.90776107e-01,\n",
              "        6.11531899e-01, 1.86923758e-01, 2.98650649e-01, 2.74255852e-01,\n",
              "        1.44488225e-01, 5.92512468e-01, 4.01252893e-01, 3.11273001e-01,\n",
              "        3.24285126e-01, 1.98920118e-01, 3.03522616e-01, 2.89039225e-01,\n",
              "        4.56482450e-01, 9.96217085e-03, 9.60221726e-01, 6.33244221e-01,\n",
              "        8.51177497e-01, 8.40896496e-01, 8.58300062e-01, 2.62837386e-01,\n",
              "        1.83831415e-01, 5.30506664e-02, 9.94471261e-01, 4.72007378e-01,\n",
              "        9.60458947e-01, 1.93330129e-01, 2.71048805e-01, 6.01108665e-01,\n",
              "        7.33007898e-01, 2.74314656e-01, 7.51916236e-01, 5.02909901e-01,\n",
              "        4.58999060e-01, 3.18185859e-01, 8.58230587e-01, 1.13289478e-01,\n",
              "        3.76228875e-01, 8.76225892e-02, 5.88835774e-01, 1.14605628e-01,\n",
              "        6.07791809e-01, 5.28723721e-01, 6.97994223e-01, 2.36961388e-01,\n",
              "        8.23179884e-01, 8.26530033e-01, 3.97356632e-01, 2.22954997e-01,\n",
              "        9.21058985e-01, 2.96909794e-01, 9.29373664e-01, 3.73434858e-01,\n",
              "        5.42380948e-01, 9.57466881e-01, 4.44215874e-02, 9.04180110e-01,\n",
              "        9.43270939e-01, 8.17494235e-02, 6.52289142e-02, 1.08562926e-01,\n",
              "        6.92489080e-01, 7.81947517e-01, 7.94605449e-01, 4.56069212e-02,\n",
              "        1.81621007e-01, 1.40720729e-01, 7.60907425e-02, 6.04875320e-01,\n",
              "        3.23893674e-01, 8.85617483e-01, 5.21626092e-01, 3.49350303e-01,\n",
              "        6.90415804e-01, 6.40557609e-01, 1.99806818e-01, 2.07684078e-01,\n",
              "        2.54691305e-01, 2.97320031e-01, 3.68734980e-01, 3.85171747e-01,\n",
              "        6.82002711e-01, 9.78162890e-01, 8.43193876e-01, 9.91344311e-02,\n",
              "        1.60948041e-01, 9.83186749e-01, 2.46435361e-01, 1.07933169e-01,\n",
              "        8.38022814e-01, 9.40420984e-01, 6.70794075e-01, 1.88631068e-01,\n",
              "        9.13031482e-01, 1.64033492e-01, 6.96609722e-01, 5.03051388e-01,\n",
              "        7.31372710e-01, 8.97510580e-01, 2.12846029e-01, 2.18666832e-01,\n",
              "        9.28295551e-01, 3.19695672e-01, 1.80942744e-01, 4.20288997e-01,\n",
              "        2.32603493e-01, 7.40245403e-01, 4.91882503e-01, 2.02664110e-01,\n",
              "        1.00773828e-01, 2.96499572e-01, 7.73706453e-02, 1.50342703e-02,\n",
              "        9.95335287e-01, 4.05358123e-01, 5.26483173e-01, 3.69865573e-01,\n",
              "        2.02160683e-02, 8.22221162e-01, 3.40926806e-01, 4.47339252e-01,\n",
              "        3.85604528e-01, 5.95740876e-01, 7.97582856e-01, 6.07095376e-01,\n",
              "        3.27309873e-01, 4.19077294e-01, 8.72594332e-01, 8.78049014e-01]])"
            ]
          },
          "metadata": {
            "tags": []
          },
          "execution_count": 11
        }
      ]
    },
    {
      "cell_type": "code",
      "metadata": {
        "id": "jNc0uhWLNBqs",
        "outputId": "c5d7f301-99c1-4a7c-ad0e-8bf2a932eb79",
        "colab": {
          "base_uri": "https://localhost:8080/",
          "height": 265
        }
      },
      "source": [
        "_ = plt.hist(np.transpose(x))"
      ],
      "execution_count": 12,
      "outputs": [
        {
          "output_type": "display_data",
          "data": {
            "image/png": "[encoded data removed]",
            "text/plain": [
              "<Figure size 432x288 with 1 Axes>"
            ]
          },
          "metadata": {
            "tags": [],
            "needs_background": "light"
          }
        }
      ]
    }
  ]
}